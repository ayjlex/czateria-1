{
  "nbformat": 4,
  "nbformat_minor": 0,
  "metadata": {
    "colab": {
      "provenance": [],
      "toc_visible": true
    },
    "kernelspec": {
      "name": "python3",
      "display_name": "Python 3"
    },
    "language_info": {
      "name": "python"
    }
  },
  "cells": [
    {
      "cell_type": "markdown",
      "source": [
        "**Zadanie 1**\n",
        "\n",
        "**Wypełnianie deklaracji PIT** - wymaga pewnej inteligencji, szczególnie przy interpretacji przepisów podatkowych oraz dostosowania ich do poszczególnych ludzi. Istnieją programy wspomagające, ale to ludzie muszą podejmować decyzje.\n",
        "\n",
        "**Streszczanie tekstu - wymaga** zrozumienia kontekstu i wyodrębnienia kluczowych informacji. To zadanie, które angażuje zdolność analizy i interpretacji treści, jednak aktualnie sztuczna inteligencja bez problemu może tym się zająć.\n",
        "\n",
        "**Tłumaczenie tekstu** - wymaga znajomości języka i jego kultury. Choć automatyczne translatory są skuteczne, człowiek często lepiej radzi sobie z idiomami i kontekstami kulturowymi.\n",
        "\n",
        "**Klasyfikacja tekstu do kategorii tematycznych** - klasyfikacja tekstów może być wykonana przez algorytmy, które są skuteczne w tej dziedzinie dzięki uczeniu maszynowemu. Człowiek nie jest tu niezbędny.\n",
        "\n",
        "**Odpowiadanie na proste pytania zadawane w języku naturalnym** - systemy oparte na sztucznej inteligencji, takie jak chatboty, radzą sobie z tym zadaniem, jeśli pytania są jasno sformułowane.\n",
        "\n",
        "**Układanie rozkładu jazdy transportu miejskiego** - tak, wymaga to inteligencji, zwłaszcza w zakresie optymalizacji i uwzględniania potrzeb użytkowników.\n",
        "\n",
        "**Programowanie (pisanie programów komputerowych)** - programowanie wymaga kreatywnego myślenia, analizy problemu i umiejętności rozwiązywania złożonych zagadnień. Chatboty potrafią napisać kod, jednak dalej potrzebna jest ingerencja człowieka dla jego utrzymania i optymalizowania.\n",
        "\n",
        "**„Programowanie” kanałów telewizyjnych** - nie, takie zadanie opiera się głównie na prostych decyzjach i może być zautomatyzowane.\n",
        "\n",
        "**Testowanie oprogramowania** - wymaga to inteligencji w analizowaniu działania programów, znajdowaniu błędów i kreatywnego myślenia przy tworzeniu scenariuszy testowych. Na razie chatboty z czego wiem, nie piszą bardzo zaawansowanych testów.\n",
        "\n",
        "**Komponowanie muzyki** - komponowanie wymaga kreatywności i zrozumienia zasad harmonii i teorii muzyki, choć sztuczna inteligencja może to wspomagać , to i tak jest to złożony proces, który wymaga wzięcie pod uwagę bardzo wielu aspektów\n",
        "\n",
        "**Rozwiązywanie układów równa**ń - nie, układy równań można rozwiązać algorytmicznie, korzystając z narzędzi matematycznych.\n",
        "\n",
        "**Symboliczne obliczanie pochodnych funkcji** - podobnie jak przy równaniach, takie zadanie jest skutecznie wykonywane przez oprogramowanie matematyczne.\n",
        "\n",
        "**Symboliczne całkowanie funkcji** - kolejne obliczenia matematyczne, które nie wymagają udziału człowieka.\n",
        "\n",
        "**Kierowanie samochodem** - aktualnie istnieją systemy, które same przejmują kierownicę\n"
      ],
      "metadata": {
        "id": "pZFR3EzUVjPm"
      }
    },
    {
      "cell_type": "markdown",
      "source": [
        "**Zadanie 2**\n",
        "\n",
        "**Streszczanie tekstu** - to zadanie może być realizowane przez algorytmy przetwarzania języka naturalnego\n",
        "\n",
        "**Tłumaczenie tekstu** - systemy tłumaczeniowe jak Google Translate mogą zajmować się tłumaczeniami.\n",
        "\n",
        "**Klasyfikacja tekstu do kategorii tematycznych** - klasyfikacja jest jednym z podstawowych zadań SI, wykorzystywanym np. w systemach rekomendacji.\n",
        "\n",
        "**Odpowiadanie na proste pytania zadawane w języku naturalnym**  - chatboty wykorzystujące uczenie maszynowe radzą sobie z takim zadaniem.\n",
        "\n",
        "**Rozwiązywanie układów równań** - tak, algorytmy numeryczne w systemach matematycznych mogą skutecznie rozwiązywać układy równań.\n",
        "\n",
        "**Układanie rozkładu jazdy** - optymalizacja rozkładów jazdy jest realizowana przez algorytmy matematyczne, ale dalej wymaga zaangażowania ze strony człowieka.\n",
        "\n",
        "**Rozwiązywanie układów równań liniowych** - algorytmy potrafią rozwiązywać układy równań liniowych\n",
        "\n",
        "**Symboliczne obliczanie pochodnych **- oprogramowanie matematyczne potrafi przeprowadzać symboliczne obliczenia.\n",
        "\n",
        "**Symboliczne całkowanie** - tak, różne systemy radzą sobie z symbolicznym całkowaniem.\n",
        "\n",
        "**Kierowanie samochodem** - pojazdy wykorzystują sztuczną inteligencję do analizy otoczenia i podejmowania decyzji."
      ],
      "metadata": {
        "id": "jzn2NQqzYCb1"
      }
    },
    {
      "cell_type": "markdown",
      "source": [
        "**Zadanie 3**\n",
        "\n",
        "**Rozmowa towarzyska** - sztuczne systemy potrafią naśladować proste rozmowy towarzyskie, ale często brakuje jej głębi emocjonalnej i naturalności.\n",
        "\n",
        "**Dyskusja polityczna** - oprogramowane systemy mogą symulować ogólne wypowiedzi, ale brak im zdolności do zrozumienia złożoności i emocjonalnych niuansów oraz rozpoznawania fałszywej i prawdziwej informacji w mediach.\n",
        "\n",
        "**Dyskusja naukowa** - systemy te mogą podawać fakty i definicje, lecz ich zdolność do zaawansowanej argumentacji naukowej jest ograniczona.\n",
        "\n",
        "**Odpowiadanie na pytania klientów w telefonicznej infolinii** - sztuczna inteligencja dobrze imituje takie zachowanie dzięki predefiniowanym scenariuszom rozmowy.\n",
        "\n",
        "**Odpowiadanie na pytania klientów w internetowej infolinii** - Chatboty w internetowych infoliniach skutecznie realizują to zadanie, zwłaszcza w kontekście prostych zapytań."
      ],
      "metadata": {
        "id": "UYJxkMtlT2Ry"
      }
    },
    {
      "cell_type": "markdown",
      "source": [
        "**Zadanie 4**\n",
        "\n",
        "1. **Różnice między botem udającym człowieka a botem-asystentem**:  \n",
        "   Bot udający człowieka stara się symulować naturalną rozmowę i często nie ujawnia swojej sztucznej natury, podczas gdy bot-asystent koncentruje się na użytkowym wsparciu, np. odpowiadaniu na pytania czy wykonywaniu zadań.\n",
        "\n",
        "2. **Testowanie dwóch botów na różne zachowania**:  \n",
        "   **Opowiadanie żartów** - bot asystent rzadko opowiada żarty, koncentrując się na praktycznych odpowiedziach, natomiast chatbot często próbuje rozśmieszyć użytkownika prostymi dowcipami.\n",
        "\n",
        "   **Przytaczanie cytatów** - bot asystent ogranicza się do dostarczania odpowiedzi na zadane pytania, natomiast chatbot potrafi przytaczać znane cytaty, aby uczynić rozmowę bardziej interesującą.\n",
        "\n",
        "   **Nawiązywanie do słów kluczowych** - Bot asystent identyfikuje słowa kluczowe i oferuje konkretne rozwiązania, podczas gdy chatbot może nawiązywać bardziej kreatywnie, ale czasem zbacza z tematu.\n",
        "\n",
        "   **Zadawanie wielu pytań** - bot asystent rzadko zadaje pytania, skupiając się na odpowiedziach, a chatbot często inicjuje nowe pytania, by podtrzymać rozmowę.\n",
        "\n",
        "   **Powracanie do początku** - bot asystent zachowuje liniową strukturę rozmowy, natomiast chatbot może wracać do wcześniejszych tematów w sposób nieco chaotyczny.\n",
        "\n",
        "   **Generowanie pytań z wypowiedzi użytkownika** - bot asystent formułuje pytania wyłącznie, gdy jest to konieczne, podczas gdy chatbot często rozwija dialog, tworząc pytania na podstawie kontekstu.\n",
        "\n",
        "   **Odpowiadanie ogólnikowo** - bot asystent odpowiada rzeczowo, ale ogólnikowo, natomiast chatbot próbuje rozszerzać odpowiedzi, co czasem prowadzi do nieścisłości.\n",
        "\n",
        "   **Częsta zmiana tematu** - bot asystent rzadko zmienia temat, trzymając się pierwotnego celu rozmowy, natomiast chatbot potrafi nagle zmienić wątek, by wydawać się bardziej naturalnym.\n",
        "\n",
        "   **Problemy z utrzymaniem wątków** - bot asystent zazwyczaj lepiej radzi sobie z utrzymaniem kontekstu, natomiast chatbot częściej gubi wątki w dłuższych rozmowach.\n",
        "\n",
        "3. **Raport ze spostrzeżeń**:  \n",
        "   Boty udające ludzi często mają bardziej płynną rozmowę, ale są mniej precyzyjne, podczas gdy boty-asystenci są bardziej funkcjonalne, lecz ograniczone w rozmowie."
      ],
      "metadata": {
        "id": "gWQPFJAyUmXI"
      }
    }
  ]
}