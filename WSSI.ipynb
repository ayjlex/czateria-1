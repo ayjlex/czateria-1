{
  "nbformat": 4,
  "nbformat_minor": 0,
  "metadata": {
    "colab": {
      "provenance": [],
      "toc_visible": true
    },
    "kernelspec": {
      "name": "python3",
      "display_name": "Python 3"
    },
    "language_info": {
      "name": "python"
    }
  },
  "cells": [
    {
      "cell_type": "markdown",
      "source": [
        "Zadanie 1\n",
        "\n",
        "Wypełnianie deklaracji PIT**:\n",
        "   Wymaga głównie uwagi i znajomości przepisów, minimalna inteligencja.\n",
        "\n",
        "**Streszczanie tekstu**:\n",
        "   Wymaga zrozumienia i analizy treści oraz umiejętności syntetyzowania informacji.\n",
        "\n",
        "**Tłumaczenie tekstu**:\n",
        "   Wymaga rozumienia kontekstu, języka i kultury, oraz interpretacji.\n",
        "\n",
        "**Klasyfikacja tekstu do kategorii tematycznych**:\n",
        "   Wymaga podstawowego zrozumienia tematów, ale mało kreatywności.\n",
        "\n",
        "**Odpowiadanie na proste pytania**:\n",
        "   Wymaga rozumienia języka, ale niekoniecznie głębokiej analizy.\n",
        "\n",
        "**Układanie rozkładu jazdy**:\n",
        "   Wymaga analizy, przewidywania potrzeb i planowania.\n",
        "\n",
        "**Programowanie**:\n",
        "   Wymaga logicznego myślenia, rozwiązywania problemów i kreatywności.\n",
        "\n",
        "**„Programowanie” kanałów telewizyjnych**:\n",
        "   Wymaga jedynie prostego planowania, niewielka inteligencja.\n",
        "\n",
        "**Testowanie oprogramowania**:\n",
        "   Wymaga myślenia analitycznego, znajdowania błędów i rozwiązywania problemów.\n",
        "\n",
        "**Komponowanie muzyki**:\n",
        "    Wymaga twórczości, zrozumienia harmonii i emocji.\n",
        "\n",
        "**Rozwiązywanie układów równań**:\n",
        "    Wymaga analizy i logicznego myślenia.\n",
        "\n",
        "**Symboliczne obliczanie pochodnych funkcji**:\n",
        "    Wymaga wiedzy matematycznej i analizy.\n",
        "\n",
        "**Symboliczne całkowanie funkcji**:\n",
        "    Wymaga umiejętności analitycznych i matematycznych.\n",
        "\n",
        "**Kierowanie samochodem**:\n",
        "    Wymaga skupienia, koordynacji i przewidywania.\n"
      ],
      "metadata": {
        "id": "pZFR3EzUVjPm"
      }
    },
    {
      "cell_type": "markdown",
      "source": [
        "Zadanie 2\n",
        "\n",
        "\n",
        "Wszystkie wymienione problemy mogą być rozwiązywane przez systemy sztucznej inteligencji. Oto lista z krótkim uzasadnieniem:\n",
        "\n",
        "**Streszczanie tekstu**:\n",
        "   Sztuczna inteligencja (AI) może analizować i skracać teksty, choć z różnym poziomem precyzji zależnie od kontekstu.\n",
        "\n",
        "**Tłumaczenie tekstu**:\n",
        "   Systemy AI, takie jak tłumacze maszynowe, są w stanie tłumaczyć teksty między różnymi językami, często automatycznie.\n",
        "\n",
        "**Klasyfikacja tekstu do kategorii tematycznych**:\n",
        "   AI dobrze radzi sobie z klasyfikacją tekstu na podstawie analizy wzorców i treści.\n",
        "\n",
        "**Odpowiadanie na proste pytania w języku naturalnym**:\n",
        "   Systemy AI, np. chatboty, potrafią odpowiadać na proste pytania, wykorzystując przetwarzanie języka naturalnego.\n",
        "\n",
        "**Rozwiązywanie układów równań**:\n",
        "   AI może rozwiązywać zarówno algebraiczne, jak i numeryczne układy równań.\n",
        "\n",
        "**Układanie rozkładu jazdy**:\n",
        "   AI może optymalizować rozkłady jazdy, biorąc pod uwagę wiele zmiennych, takich jak czas i zasoby.\n",
        "\n",
        "**Rozwiązywanie układów równań liniowych**:\n",
        "   AI doskonale radzi sobie z rozwiązywaniem takich problemów matematycznych, korzystając z metod numerycznych.\n",
        "\n",
        "**Symboliczne obliczanie pochodnych**:\n",
        "   AI może obliczać pochodne symbolicznie przy użyciu zaawansowanych algorytmów matematycznych.\n",
        "\n",
        "**Symboliczne całkowanie**:\n",
        "   AI potrafi symbolicznie całkować funkcje, podobnie jak obliczać pochodne.\n",
        "\n",
        "**Kierowanie samochodem**:\n",
        "    Systemy autonomiczne (AI) potrafią kierować samochodami, analizując otoczenie i podejmując decyzje w czasie rzeczywistym.\n",
        "\n"
      ],
      "metadata": {
        "id": "jzn2NQqzYCb1"
      }
    },
    {
      "cell_type": "markdown",
      "source": [
        "Zadanie 3\n",
        "\n",
        "\n",
        "rozmowa towarzyska,\n",
        "dyskusja naukowa,\n",
        "odpowiadanie na pytania klientów w internetowej infolinii"
      ],
      "metadata": {
        "id": "UYJxkMtlT2Ry"
      }
    },
    {
      "cell_type": "markdown",
      "source": [
        "Zadanie 4\n",
        "\n",
        "a) za proste żarty\n",
        "\n",
        "b) nie przytacza żadnych cytatów tak, jakby nie miał nawet tego w bazie danych\n",
        "\n",
        "c) nie odnosi się do głównych wątków odbiega od tematu\n",
        "\n",
        "d) gubi się, nie wie jak je połaczyć\n",
        "\n",
        "e) kompletnie brak sekwencji\n",
        "\n",
        "f) nie wykazuje zainteresowania odnośnie moich wypowiedzi\n",
        "\n",
        "g) częste odpowiadanie ogólnikowow szczególnie w pytaniach wymagających oceny moralnej i etycznej\n",
        "\n",
        "h) często zmienia temat rozmowy\n",
        "\n",
        "i) ma problem z utrzymaniem wątków"
      ],
      "metadata": {
        "id": "gWQPFJAyUmXI"
      }
    }
  ]
}